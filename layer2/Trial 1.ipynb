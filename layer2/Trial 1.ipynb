{
 "cells": [
  {
   "cell_type": "code",
   "execution_count": 2,
   "id": "2d45dc09",
   "metadata": {},
   "outputs": [],
   "source": [
    "import torch\n",
    "import torch.nn as nn\n",
    "import torch.optim as optim\n",
    "from torch.utils.data import Dataset, DataLoader\n",
    "from torchvision import transforms, models\n",
    "import pandas as pd\n",
    "import os\n",
    "from PIL import Image\n",
    "import time"
   ]
  },
  {
   "cell_type": "code",
   "execution_count": 3,
   "id": "cd0a36d0",
   "metadata": {},
   "outputs": [],
   "source": [
    "class ModifiedCheXNet(nn.Module):\n",
    "    def __init__(self, num_classes):\n",
    "        super(ModifiedCheXNet, self).__init__()\n",
    "        self.base_model = models.densenet121(pretrained=True)\n",
    "        num_features = self.base_model.classifier.in_features\n",
    "        self.base_model.classifier = nn.Linear(num_features, num_classes)\n",
    "\n",
    "    def forward(self, x):\n",
    "        return self.base_model(x)"
   ]
  },
  {
   "cell_type": "code",
   "execution_count": null,
   "id": "76b85884",
   "metadata": {},
   "outputs": [],
   "source": [
    "class CustomDataset(Dataset):\n",
    "    def __init__(self, csv_file, root_dir, transform=None):\n",
    "        self.data = pd.read_csv(csv_file)\n",
    "        self.root_dir = root_dir\n",
    "        self.transform = transform\n",
    "\n",
    "    def __len__(self):\n",
    "        return len(self.data)\n",
    "\n",
    "    def __getitem__(self, idx):\n",
    "        img_name = self.data.iloc[idx, 0]\n",
    "        img_path = os.path.join(self.root_dir, img_name)\n",
    "        image = Image.open(img_path).convert('RGB')\n",
    "        label = self.data.iloc[idx, 1]\n",
    "        if self.transform:\n",
    "            image = self.transform(image)\n",
    "        return image, label\n"
   ]
  },
  {
   "cell_type": "code",
   "execution_count": 35,
   "id": "0751ce50",
   "metadata": {},
   "outputs": [],
   "source": [
    "# Set the device\n",
    "device = torch.device(\"cuda\" if torch.cuda.is_available() else \"cpu\")\n",
    "\n",
    "# Set the number of classes\n",
    "num_classes = 4\n",
    "\n",
    "# Set the paths and filenames\n",
    "data_csv_file = 'Hierarchy_sample.csv'\n",
    "data_dir = 'images/'"
   ]
  },
  {
   "cell_type": "code",
   "execution_count": 36,
   "id": "5cd89bc1",
   "metadata": {},
   "outputs": [],
   "source": [
    "# Set the batch size and number of epochs\n",
    "batch_size = 32\n",
    "num_epochs = 10\n"
   ]
  },
  {
   "cell_type": "code",
   "execution_count": 37,
   "id": "4163bf21",
   "metadata": {},
   "outputs": [],
   "source": [
    "# Define the transformations for the dataset\n",
    "transform = transforms.Compose([\n",
    "    transforms.Resize((224, 224)),\n",
    "    transforms.ToTensor(),\n",
    "    transforms.Normalize(mean=[0.485, 0.456, 0.406], std=[0.229, 0.224, 0.225])\n",
    "])"
   ]
  },
  {
   "cell_type": "code",
   "execution_count": 38,
   "id": "017f97ac",
   "metadata": {},
   "outputs": [],
   "source": [
    "# Create the dataset\n",
    "dataset = CustomDataset(data_csv_file, data_dir, transform=transform)"
   ]
  },
  {
   "cell_type": "code",
   "execution_count": 39,
   "id": "77ecaeb5",
   "metadata": {},
   "outputs": [],
   "source": [
    "\n",
    "# Split the dataset into train and test\n",
    "train_size = int(0.8 * len(dataset))\n",
    "test_size = len(dataset) - train_size\n",
    "train_dataset, test_dataset = torch.utils.data.random_split(dataset, [train_size, test_size])\n",
    "\n",
    "# Create the train and test data loaders\n",
    "train_loader = DataLoader(train_dataset, batch_size=batch_size, shuffle=True)\n",
    "test_loader = DataLoader(test_dataset, batch_size=batch_size, shuffle=False)"
   ]
  },
  {
   "cell_type": "code",
   "execution_count": 40,
   "id": "525e1831",
   "metadata": {},
   "outputs": [
    {
     "name": "stderr",
     "output_type": "stream",
     "text": [
      "/Users/vrajrajpura/opt/anaconda3/lib/python3.9/site-packages/torchvision/models/_utils.py:208: UserWarning: The parameter 'pretrained' is deprecated since 0.13 and may be removed in the future, please use 'weights' instead.\n",
      "  warnings.warn(\n",
      "/Users/vrajrajpura/opt/anaconda3/lib/python3.9/site-packages/torchvision/models/_utils.py:223: UserWarning: Arguments other than a weight enum or `None` for 'weights' are deprecated since 0.13 and may be removed in the future. The current behavior is equivalent to passing `weights=DenseNet121_Weights.IMAGENET1K_V1`. You can also use `weights=DenseNet121_Weights.DEFAULT` to get the most up-to-date weights.\n",
      "  warnings.warn(msg)\n"
     ]
    }
   ],
   "source": [
    "# Create the model\n",
    "model = ModifiedCheXNet(num_classes)\n",
    "model.to(device)\n",
    "\n",
    "# Define the loss function and optimizer\n",
    "criterion = nn.CrossEntropyLoss()\n",
    "optimizer = optim.Adam(model.parameters())"
   ]
  },
  {
   "cell_type": "code",
   "execution_count": 47,
   "id": "19d85a8f",
   "metadata": {},
   "outputs": [
    {
     "name": "stdout",
     "output_type": "stream",
     "text": [
      "Epoch 1/10, Train Loss: 0.4739, Accuracy: 86.89% and time : 503.12\n",
      "Epoch 2/10, Train Loss: 0.4782, Accuracy: 86.95% and time : 509.06\n",
      "Epoch 3/10, Train Loss: 0.4705, Accuracy: 87.01% and time : 504.92\n",
      "Epoch 4/10, Train Loss: 0.4660, Accuracy: 87.12% and time : 500.80\n",
      "Epoch 5/10, Train Loss: 0.4780, Accuracy: 86.78% and time : 514.02\n",
      "Epoch 6/10, Train Loss: 0.4731, Accuracy: 87.17% and time : 568.63\n",
      "Epoch 7/10, Train Loss: 0.4742, Accuracy: 87.06% and time : 540.89\n",
      "Epoch 8/10, Train Loss: 0.4678, Accuracy: 87.17% and time : 577.74\n",
      "Epoch 9/10, Train Loss: 0.4608, Accuracy: 87.17% and time : 631.54\n",
      "Epoch 10/10, Train Loss: 0.4574, Accuracy: 87.17% and time : 559.12\n"
     ]
    }
   ],
   "source": [
    "avg_losses =[]\n",
    "\n",
    "for epoch in range(num_epochs):\n",
    "    start_time = time.time()\n",
    "    model.train()\n",
    "    train_loss = 0.0\n",
    "    correct = 0\n",
    "    total = 0\n",
    "    \n",
    "    for images, labels in train_loader:\n",
    "        \n",
    "        images = images.to(device)\n",
    "        labels = labels.to(device)\n",
    "        optimizer.zero_grad()\n",
    "        outputs = model(images)\n",
    "        loss = criterion(outputs, labels)\n",
    "        loss.backward()\n",
    "        optimizer.step()\n",
    "        train_loss += loss.item() * images.size(0)\n",
    "        \n",
    "        _, predicted = torch.max(outputs.data, 1)\n",
    "        total += labels.size(0)\n",
    "        correct += (predicted == labels).sum().item()\n",
    "        \n",
    "    train_loss /= len(train_loader.dataset)\n",
    "    accuracy = 100 * correct / total\n",
    "    avg_losses.append(train_loss)\n",
    "    elapsed_time = time.time() - start_time\n",
    "    print(f'Epoch {epoch+1}/{num_epochs}, Train Loss: {train_loss:.4f}, Accuracy: {accuracy:.2f}% and time : {elapsed_time:.2f}')"
   ]
  },
  {
   "cell_type": "code",
   "execution_count": 48,
   "id": "bfecbe4e",
   "metadata": {},
   "outputs": [],
   "source": [
    "# Set the path and filename for saving the model\n",
    "save_path = '../model2.pth'\n",
    "\n",
    "# Save the model\n",
    "torch.save(model.state_dict(), save_path)"
   ]
  },
  {
   "cell_type": "code",
   "execution_count": 49,
   "id": "86ba5055",
   "metadata": {},
   "outputs": [
    {
     "data": {
      "image/png": "[encoded data removed]",
      "text/plain": [
       "<Figure size 432x288 with 1 Axes>"
      ]
     },
     "metadata": {
      "needs_background": "light"
     },
     "output_type": "display_data"
    }
   ],
   "source": [
    "import matplotlib.pyplot as plt\n",
    "\n",
    "# Plot the losses\n",
    "plt.plot(avg_losses)\n",
    "plt.xlabel('Epoch')\n",
    "plt.ylabel('Loss')\n",
    "plt.title('Training Loss')\n",
    "plt.show()\n",
    "\n"
   ]
  },
  {
   "cell_type": "code",
   "execution_count": 51,
   "id": "a9051a66",
   "metadata": {},
   "outputs": [
    {
     "name": "stdout",
     "output_type": "stream",
     "text": [
      "F1 Score: 0.2365\n",
      "Confusion Matrix:\n",
      "[[403   0   0   0]\n",
      " [ 38   0   0   0]\n",
      " [  7   0   0   0]\n",
      " [  1   0   0   0]]\n"
     ]
    }
   ],
   "source": [
    "import numpy as np\n",
    "from sklearn.metrics import f1_score, confusion_matrix\n",
    "\n",
    "# Initialize empty lists to store predicted labels and true labels\n",
    "predicted_labels = []\n",
    "true_labels = []\n",
    "\n",
    "# Evaluate the model on the test set\n",
    "model.eval()\n",
    "with torch.no_grad():\n",
    "    for images, labels in test_loader:\n",
    "        images = images.to(device)\n",
    "        labels = labels.to(device)\n",
    "        outputs = model(images)\n",
    "        _, predicted = torch.max(outputs.data, 1)\n",
    "        \n",
    "        predicted_labels.extend(predicted.cpu().numpy())\n",
    "        true_labels.extend(labels.cpu().numpy())\n",
    "\n",
    "# Calculate F1 score and confusion matrix\n",
    "f1 = f1_score(true_labels, predicted_labels, average='macro')\n",
    "conf_matrix = confusion_matrix(true_labels, predicted_labels)\n",
    "\n",
    "# Print F1 score and confusion matrix\n",
    "print(f'F1 Score: {f1:.4f}')\n",
    "print(f'Confusion Matrix:\\n{conf_matrix}')"
   ]
  }
 ],
 "metadata": {
  "kernelspec": {
   "display_name": "Python 3 (ipykernel)",
   "language": "python",
   "name": "python3"
  },
  "language_info": {
   "codemirror_mode": {
    "name": "ipython",
    "version": 3
   },
   "file_extension": ".py",
   "mimetype": "text/x-python",
   "name": "python",
   "nbconvert_exporter": "python",
   "pygments_lexer": "ipython3",
   "version": "3.9.12"
  }
 },
 "nbformat": 4,
 "nbformat_minor": 5
}
