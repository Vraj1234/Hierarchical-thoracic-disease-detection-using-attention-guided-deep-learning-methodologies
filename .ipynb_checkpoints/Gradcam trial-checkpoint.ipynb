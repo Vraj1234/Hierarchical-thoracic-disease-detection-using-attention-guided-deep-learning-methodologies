{
 "cells": [
  {
   "cell_type": "code",
   "execution_count": 76,
   "id": "fee69bfa",
   "metadata": {},
   "outputs": [
    {
     "ename": "error",
     "evalue": "OpenCV(4.6.0) :-1: error: (-5:Bad argument) in function 'resize'\n> Overload resolution failed:\n>  - Can't parse 'dsize'. Input argument doesn't provide sequence protocol\n>  - Can't parse 'dsize'. Input argument doesn't provide sequence protocol\n",
     "output_type": "error",
     "traceback": [
      "\u001b[0;31m---------------------------------------------------------------------------\u001b[0m",
      "\u001b[0;31merror\u001b[0m                                     Traceback (most recent call last)",
      "Input \u001b[0;32mIn [76]\u001b[0m, in \u001b[0;36m<cell line: 72>\u001b[0;34m()\u001b[0m\n\u001b[1;32m     69\u001b[0m label \u001b[38;5;241m=\u001b[39m \u001b[38;5;241m0\u001b[39m\n\u001b[1;32m     71\u001b[0m \u001b[38;5;66;03m# Generate the heatmap\u001b[39;00m\n\u001b[0;32m---> 72\u001b[0m heatmap \u001b[38;5;241m=\u001b[39m \u001b[43mgrad_cam\u001b[49m\u001b[43m(\u001b[49m\u001b[43minput_tensor\u001b[49m\u001b[43m,\u001b[49m\u001b[43m \u001b[49m\u001b[43mlabel\u001b[49m\u001b[43m)\u001b[49m\n",
      "Input \u001b[0;32mIn [76]\u001b[0m, in \u001b[0;36mGradCAM.__call__\u001b[0;34m(self, x, label)\u001b[0m\n\u001b[1;32m     40\u001b[0m cam \u001b[38;5;241m=\u001b[39m np\u001b[38;5;241m.\u001b[39mmaximum(cam, \u001b[38;5;241m0\u001b[39m)\n\u001b[1;32m     41\u001b[0m image_size \u001b[38;5;241m=\u001b[39m (x\u001b[38;5;241m.\u001b[39msize(\u001b[38;5;241m-\u001b[39m\u001b[38;5;241m1\u001b[39m), x\u001b[38;5;241m.\u001b[39msize(\u001b[38;5;241m-\u001b[39m\u001b[38;5;241m2\u001b[39m))  \u001b[38;5;66;03m# Move this line here\u001b[39;00m\n\u001b[0;32m---> 42\u001b[0m cam \u001b[38;5;241m=\u001b[39m \u001b[43mcv2\u001b[49m\u001b[38;5;241;43m.\u001b[39;49m\u001b[43mresize\u001b[49m\u001b[43m(\u001b[49m\u001b[43mcam\u001b[49m\u001b[43m,\u001b[49m\u001b[43m \u001b[49m\u001b[38;5;241;43m224\u001b[39;49m\u001b[43m)\u001b[49m\n\u001b[1;32m     43\u001b[0m cam \u001b[38;5;241m=\u001b[39m cam \u001b[38;5;241m-\u001b[39m np\u001b[38;5;241m.\u001b[39mmin(cam)\n\u001b[1;32m     44\u001b[0m cam \u001b[38;5;241m=\u001b[39m cam \u001b[38;5;241m/\u001b[39m np\u001b[38;5;241m.\u001b[39mmax(cam)\n",
      "\u001b[0;31merror\u001b[0m: OpenCV(4.6.0) :-1: error: (-5:Bad argument) in function 'resize'\n> Overload resolution failed:\n>  - Can't parse 'dsize'. Input argument doesn't provide sequence protocol\n>  - Can't parse 'dsize'. Input argument doesn't provide sequence protocol\n"
     ]
    }
   ],
   "source": [
    "from torchvision import transforms\n",
    "from PIL import Image\n",
    "from torchvision import models\n",
    "import torch\n",
    "import torch.nn.functional as F\n",
    "import numpy as np\n",
    "import cv2\n",
    "\n",
    "class GradCAM:\n",
    "    def __init__(self, model):\n",
    "        self.model = model\n",
    "        self.feature = None\n",
    "        self.gradient = None\n",
    "\n",
    "    def save_gradient(self, grad):\n",
    "        self.gradient = grad\n",
    "\n",
    "    def __call__(self, x, label):\n",
    "        feature_maps = []\n",
    "\n",
    "        for i in range(x.size(0)):\n",
    "            img = x[i].data.cpu().numpy()\n",
    "            img = img - np.min(img)\n",
    "            if np.max(img) != 0:\n",
    "                img = img / np.max(img)\n",
    "\n",
    "            self.model.features.register_forward_hook(self.save_feature)\n",
    "            self.model.features.register_backward_hook(self.save_gradient)\n",
    "            output = self.model(x)\n",
    "            one_hot_output = torch.FloatTensor(1, output.size()[-1]).zero_()\n",
    "            one_hot_output[0][label] = 1\n",
    "            output.backward(gradient=one_hot_output, retain_graph=True)\n",
    "            gradient = self.gradient[0].cpu().data.numpy()\n",
    "            weight = np.mean(gradient, axis=(1, 2))\n",
    "            mean_weight = np.mean(weight)\n",
    "\n",
    "            cam = img\n",
    "            for i in range(img.shape[0]):\n",
    "                cam += mean_weight * img[i, :, :]\n",
    "            cam = np.maximum(cam, 0)\n",
    "            image_size = (x.size(-1), x.size(-2))  # Move this line here\n",
    "            cam = cv2.resize(cam, image_size)\n",
    "            cam = cam - np.min(cam)\n",
    "            cam = cam / np.max(cam)\n",
    "            feature_maps.append(transforms.ToTensor()(cam))\n",
    "\n",
    "        feature_maps = torch.stack(feature_maps)\n",
    "        return feature_maps\n",
    "\n",
    "    def save_feature(self, module, input, output):\n",
    "        self.feature = output\n",
    "\n",
    "    def save_gradient(self, module, grad_in, grad_out):\n",
    "        self.gradient = grad_out\n",
    "# Initialize the model\n",
    "model = models.densenet121(pretrained=True)\n",
    "grad_cam = GradCAM(model=model)\n",
    "\n",
    "# Open the image\n",
    "input_image = Image.open('demo_images/00000013_026.png').convert('RGB')\n",
    "\n",
    "# Convert the image to tensor\n",
    "input_tensor = transforms.ToTensor()(input_image)\n",
    "\n",
    "# Add an extra dimension to the tensor\n",
    "input_tensor = input_tensor.unsqueeze(0)\n",
    "\n",
    "# Define the label\n",
    "label = 0\n",
    "\n",
    "# Generate the heatmap\n",
    "heatmap = grad_cam(input_tensor, label)"
   ]
  },
  {
   "cell_type": "code",
   "execution_count": null,
   "id": "8d952a67",
   "metadata": {},
   "outputs": [],
   "source": []
  }
 ],
 "metadata": {
  "kernelspec": {
   "display_name": "Python 3 (ipykernel)",
   "language": "python",
   "name": "python3"
  },
  "language_info": {
   "codemirror_mode": {
    "name": "ipython",
    "version": 3
   },
   "file_extension": ".py",
   "mimetype": "text/x-python",
   "name": "python",
   "nbconvert_exporter": "python",
   "pygments_lexer": "ipython3",
   "version": "3.9.12"
  }
 },
 "nbformat": 4,
 "nbformat_minor": 5
}
